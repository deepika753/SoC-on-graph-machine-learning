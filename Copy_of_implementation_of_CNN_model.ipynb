{
  "cells": [
    {
      "cell_type": "code",
      "execution_count": null,
      "metadata": {
        "id": "_RDljxh0sZm8"
      },
      "outputs": [],
      "source": [
        "import torch"
      ]
    },
    {
      "cell_type": "code",
      "execution_count": null,
      "metadata": {
        "id": "PdETGxrFsf3s"
      },
      "outputs": [],
      "source": [
        "# download mnist data\n",
        "from torchvision import datasets\n",
        "from torchvision.transforms import ToTensor"
      ]
    },
    {
      "cell_type": "code",
      "execution_count": null,
      "metadata": {
        "colab": {
          "base_uri": "https://localhost:8080/"
        },
        "id": "lWq4Dpixs7vv",
        "outputId": "f3c53ea5-5737-46db-c044-4ad94ab0c7c6"
      },
      "outputs": [
        {
          "output_type": "stream",
          "name": "stdout",
          "text": [
            "Downloading http://yann.lecun.com/exdb/mnist/train-images-idx3-ubyte.gz\n",
            "Downloading http://yann.lecun.com/exdb/mnist/train-images-idx3-ubyte.gz to data/MNIST/raw/train-images-idx3-ubyte.gz\n"
          ]
        },
        {
          "output_type": "stream",
          "name": "stderr",
          "text": [
            "100%|██████████| 9912422/9912422 [00:00<00:00, 92768966.82it/s]\n"
          ]
        },
        {
          "output_type": "stream",
          "name": "stdout",
          "text": [
            "Extracting data/MNIST/raw/train-images-idx3-ubyte.gz to data/MNIST/raw\n",
            "\n",
            "Downloading http://yann.lecun.com/exdb/mnist/train-labels-idx1-ubyte.gz\n",
            "Downloading http://yann.lecun.com/exdb/mnist/train-labels-idx1-ubyte.gz to data/MNIST/raw/train-labels-idx1-ubyte.gz\n"
          ]
        },
        {
          "output_type": "stream",
          "name": "stderr",
          "text": [
            "100%|██████████| 28881/28881 [00:00<00:00, 28462334.08it/s]"
          ]
        },
        {
          "output_type": "stream",
          "name": "stdout",
          "text": [
            "Extracting data/MNIST/raw/train-labels-idx1-ubyte.gz to data/MNIST/raw\n",
            "\n",
            "Downloading http://yann.lecun.com/exdb/mnist/t10k-images-idx3-ubyte.gz\n",
            "Downloading http://yann.lecun.com/exdb/mnist/t10k-images-idx3-ubyte.gz to data/MNIST/raw/t10k-images-idx3-ubyte.gz\n"
          ]
        },
        {
          "output_type": "stream",
          "name": "stderr",
          "text": [
            "\n",
            "100%|██████████| 1648877/1648877 [00:00<00:00, 23836229.83it/s]\n"
          ]
        },
        {
          "output_type": "stream",
          "name": "stdout",
          "text": [
            "Extracting data/MNIST/raw/t10k-images-idx3-ubyte.gz to data/MNIST/raw\n",
            "\n",
            "Downloading http://yann.lecun.com/exdb/mnist/t10k-labels-idx1-ubyte.gz\n",
            "Downloading http://yann.lecun.com/exdb/mnist/t10k-labels-idx1-ubyte.gz to data/MNIST/raw/t10k-labels-idx1-ubyte.gz\n"
          ]
        },
        {
          "output_type": "stream",
          "name": "stderr",
          "text": [
            "100%|██████████| 4542/4542 [00:00<00:00, 21429166.22it/s]\n"
          ]
        },
        {
          "output_type": "stream",
          "name": "stdout",
          "text": [
            "Extracting data/MNIST/raw/t10k-labels-idx1-ubyte.gz to data/MNIST/raw\n",
            "\n"
          ]
        }
      ],
      "source": [
        "train_data = datasets.MNIST(\n",
        "    root = 'data',\n",
        "    train = True,\n",
        "    transform = ToTensor(),\n",
        "    download = True,\n",
        ")"
      ]
    },
    {
      "cell_type": "code",
      "execution_count": null,
      "metadata": {
        "id": "xV2wY74Ztbgc"
      },
      "outputs": [],
      "source": [
        "\n",
        "test_data = datasets.MNIST(\n",
        "    root = 'data',\n",
        "    train = False,\n",
        "    transform = ToTensor()\n",
        ")"
      ]
    },
    {
      "cell_type": "code",
      "execution_count": null,
      "metadata": {
        "colab": {
          "base_uri": "https://localhost:8080/"
        },
        "id": "-D_YlKytuAZD",
        "outputId": "ae249c84-550d-48a4-830c-485b684a3e49"
      },
      "outputs": [
        {
          "output_type": "stream",
          "name": "stdout",
          "text": [
            "Dataset MNIST\n",
            "    Number of datapoints: 60000\n",
            "    Root location: data\n",
            "    Split: Train\n",
            "    StandardTransform\n",
            "Transform: ToTensor()\n"
          ]
        }
      ],
      "source": [
        "print(train_data)"
      ]
    },
    {
      "cell_type": "code",
      "execution_count": null,
      "metadata": {
        "colab": {
          "base_uri": "https://localhost:8080/"
        },
        "id": "db-lHXD3uGKt",
        "outputId": "845676b4-a7d6-45c3-ae88-509e58e5d95e"
      },
      "outputs": [
        {
          "output_type": "stream",
          "name": "stdout",
          "text": [
            "Dataset MNIST\n",
            "    Number of datapoints: 10000\n",
            "    Root location: data\n",
            "    Split: Test\n",
            "    StandardTransform\n",
            "Transform: ToTensor()\n"
          ]
        }
      ],
      "source": [
        "print(test_data)"
      ]
    },
    {
      "cell_type": "code",
      "execution_count": null,
      "metadata": {
        "colab": {
          "base_uri": "https://localhost:8080/"
        },
        "id": "livzcN-FuK77",
        "outputId": "b2fa313d-8a4e-48bd-d32b-a50d8e81ab4a"
      },
      "outputs": [
        {
          "output_type": "stream",
          "name": "stdout",
          "text": [
            "torch.Size([60000, 28, 28])\n"
          ]
        }
      ],
      "source": [
        "\n",
        "print(train_data.data.size())\n"
      ]
    },
    {
      "cell_type": "code",
      "execution_count": null,
      "metadata": {
        "colab": {
          "base_uri": "https://localhost:8080/"
        },
        "id": "Hb0_LkituSFu",
        "outputId": "74063f97-a4a1-486c-a22e-adb706e50cf2"
      },
      "outputs": [
        {
          "output_type": "stream",
          "name": "stdout",
          "text": [
            "torch.Size([60000])\n"
          ]
        }
      ],
      "source": [
        "print(train_data.targets.size())"
      ]
    },
    {
      "cell_type": "code",
      "execution_count": null,
      "metadata": {
        "id": "NHBt6ukkubsP"
      },
      "outputs": [],
      "source": []
    },
    {
      "cell_type": "markdown",
      "metadata": {
        "id": "XuThHrtIuouM"
      },
      "source": [
        "**visualization of MNIST data**"
      ]
    },
    {
      "cell_type": "code",
      "execution_count": null,
      "metadata": {
        "colab": {
          "base_uri": "https://localhost:8080/",
          "height": 430
        },
        "id": "H14zfKrTuwwY",
        "outputId": "36f7f691-7b5f-4819-eaf7-2e93f9cb89ed"
      },
      "outputs": [
        {
          "output_type": "display_data",
          "data": {
            "text/plain": [
              "<Figure size 640x480 with 1 Axes>"
            ],
            "image/png": "[encoded data removed]"
          },
          "metadata": {}
        }
      ],
      "source": [
        "#plot single train data\n",
        "import matplotlib.pyplot as plt\n",
        "plt.imshow(train_data.data[0],cmap ='gray')#imshow displays output as image\n",
        "plt.show()"
      ]
    },
    {
      "cell_type": "code",
      "execution_count": null,
      "metadata": {
        "colab": {
          "base_uri": "https://localhost:8080/",
          "height": 34
        },
        "id": "2U7l2_5iu_Dx",
        "outputId": "86c91ff9-5c8b-4aba-a4d7-5b0735ca2ce5"
      },
      "outputs": [
        {
          "output_type": "display_data",
          "data": {
            "text/plain": [
              "<Figure size 1000x800 with 0 Axes>"
            ]
          },
          "metadata": {}
        }
      ],
      "source": [
        "#plot multiple train  data\n",
        "figure = plt.figure(figsize = (10,8))\n"
      ]
    },
    {
      "cell_type": "markdown",
      "metadata": {
        "id": "iRtM4KMLrBz6"
      },
      "source": []
    },
    {
      "cell_type": "code",
      "execution_count": null,
      "metadata": {
        "id": "GR9Bk2buvxR8"
      },
      "outputs": [],
      "source": [
        "#dataloaders\n",
        "from torch.utils.data import DataLoader\n",
        "loaders = {'train' : torch.utils.data.DataLoader(train_data,\n",
        "                                          batch_size=100,\n",
        "                                          shuffle=True,\n",
        "                                          num_workers=1),\n",
        "\n",
        "    'test'  : torch.utils.data.DataLoader(test_data,\n",
        "                                          batch_size=100,\n",
        "                                          shuffle=True,\n",
        "                                          num_workers=1),\n",
        "}"
      ]
    },
    {
      "cell_type": "code",
      "execution_count": null,
      "metadata": {
        "id": "EpiDxUz-wRrn"
      },
      "outputs": [],
      "source": [
        "#creating convolution neural network from torch.nn\n",
        "import torch.nn as nn\n",
        "import torch.nn.functional as F"
      ]
    },
    {
      "cell_type": "code",
      "execution_count": null,
      "metadata": {
        "id": "sFs9ix626IFx"
      },
      "outputs": [],
      "source": [
        "class CNN(nn.Module):\n",
        "    def __init__(self):\n",
        "        super(CNN, self).__init__()\n",
        "\n",
        "        self.conv1 = nn.Conv2d(1, 6, 5) # 6 filters of size 5x5\n",
        "        self.conv2 = nn.Conv2d(6, 16, 5) # 16 filters of size 5x5\n",
        "        self.conv3 = nn.Conv2d(16, 120, 4) # 120 filters of size 4x4\n",
        "\n",
        "        self.fc1 = nn.Linear(120, 84)\n",
        "        self.fc2 = nn.Linear(84, 10)\n",
        "\n",
        "    def forward(self, x):\n",
        "        x = F.tanh(self.conv1(x))\n",
        "        x = F.max_pool2d(x, 2)\n",
        "        x = F.tanh(self.conv2(x))\n",
        "        x = F.max_pool2d(x, 2)\n",
        "        x = F.tanh(self.conv3(x))\n",
        "\n",
        "        # flatten the output for fully connected layers\n",
        "        x = x.view(-1, 120)\n",
        "\n",
        "        x = F.tanh(self.fc1(x))\n",
        "        x = self.fc2(x)\n",
        "\n",
        "        # apply log softmax for output probabilities\n",
        "        x = F.log_softmax(x, dim=1)\n",
        "\n",
        "        return x\n",
        "\n"
      ]
    },
    {
      "cell_type": "code",
      "execution_count": null,
      "metadata": {
        "id": "ebGO5eaxLrlP"
      },
      "outputs": [],
      "source": []
    },
    {
      "cell_type": "code",
      "execution_count": null,
      "metadata": {
        "colab": {
          "base_uri": "https://localhost:8080/"
        },
        "id": "gaPrHcy5zN6C",
        "outputId": "531d93d3-388f-47f7-9193-879f966c967d"
      },
      "outputs": [
        {
          "output_type": "execute_result",
          "data": {
            "text/plain": [
              "CrossEntropyLoss()"
            ]
          },
          "metadata": {},
          "execution_count": 22
        }
      ],
      "source": [
        "loss_fun = nn.CrossEntropyLoss()\n",
        "loss_fun"
      ]
    },
    {
      "cell_type": "markdown",
      "metadata": {
        "id": "orwZLmOfxzjW"
      },
      "source": [
        "**loss and optimizer**"
      ]
    },
    {
      "cell_type": "code",
      "execution_count": null,
      "metadata": {
        "id": "Nh5Z5goFvID5"
      },
      "outputs": [],
      "source": [
        "import torch.optim as optim\n",
        "model =CNN()\n",
        "optimizer = optim.Adam(model.parameters())\n",
        "\n"
      ]
    },
    {
      "cell_type": "code",
      "execution_count": null,
      "metadata": {
        "colab": {
          "base_uri": "https://localhost:8080/"
        },
        "id": "NZbNLlWXyamp",
        "outputId": "c1554b56-1f54-48dd-b833-85afac5b2f43"
      },
      "outputs": [
        {
          "output_type": "execute_result",
          "data": {
            "text/plain": [
              "Adam (\n",
              "Parameter Group 0\n",
              "    amsgrad: False\n",
              "    betas: (0.9, 0.999)\n",
              "    capturable: False\n",
              "    differentiable: False\n",
              "    eps: 1e-08\n",
              "    foreach: None\n",
              "    fused: None\n",
              "    lr: 0.001\n",
              "    maximize: False\n",
              "    weight_decay: 0\n",
              ")"
            ]
          },
          "metadata": {},
          "execution_count": 24
        }
      ],
      "source": [
        "optimizer"
      ]
    },
    {
      "cell_type": "code",
      "execution_count": null,
      "metadata": {
        "id": "2MN4_oLCA4OA"
      },
      "outputs": [],
      "source": [
        "import torch.optim as optim"
      ]
    },
    {
      "cell_type": "code",
      "execution_count": null,
      "metadata": {
        "colab": {
          "base_uri": "https://localhost:8080/"
        },
        "id": "HIim9wMnVEWi",
        "outputId": "694394b2-a53d-4db2-b1ab-a3effc9c5932"
      },
      "outputs": [
        {
          "output_type": "stream",
          "name": "stdout",
          "text": [
            "Train Epoch: 1 [0/60000 (0%)]\tLoss: 2.299601\n",
            "Train Epoch: 1 [10000/60000 (17%)]\tLoss: 0.356432\n",
            "Train Epoch: 1 [20000/60000 (33%)]\tLoss: 0.244380\n",
            "Train Epoch: 1 [30000/60000 (50%)]\tLoss: 0.055314\n",
            "Train Epoch: 1 [40000/60000 (67%)]\tLoss: 0.084316\n",
            "Train Epoch: 1 [50000/60000 (83%)]\tLoss: 0.068659\n",
            "Train Epoch: 2 [0/60000 (0%)]\tLoss: 0.098525\n",
            "Train Epoch: 2 [10000/60000 (17%)]\tLoss: 0.017730\n",
            "Train Epoch: 2 [20000/60000 (33%)]\tLoss: 0.061216\n",
            "Train Epoch: 2 [30000/60000 (50%)]\tLoss: 0.125141\n",
            "Train Epoch: 2 [40000/60000 (67%)]\tLoss: 0.039339\n",
            "Train Epoch: 2 [50000/60000 (83%)]\tLoss: 0.068089\n",
            "Train Epoch: 3 [0/60000 (0%)]\tLoss: 0.014602\n",
            "Train Epoch: 3 [10000/60000 (17%)]\tLoss: 0.141072\n",
            "Train Epoch: 3 [20000/60000 (33%)]\tLoss: 0.154577\n",
            "Train Epoch: 3 [30000/60000 (50%)]\tLoss: 0.077733\n",
            "Train Epoch: 3 [40000/60000 (67%)]\tLoss: 0.032411\n",
            "Train Epoch: 3 [50000/60000 (83%)]\tLoss: 0.053839\n",
            "Train Epoch: 4 [0/60000 (0%)]\tLoss: 0.041950\n",
            "Train Epoch: 4 [10000/60000 (17%)]\tLoss: 0.015844\n",
            "Train Epoch: 4 [20000/60000 (33%)]\tLoss: 0.053504\n",
            "Train Epoch: 4 [30000/60000 (50%)]\tLoss: 0.038713\n",
            "Train Epoch: 4 [40000/60000 (67%)]\tLoss: 0.038008\n",
            "Train Epoch: 4 [50000/60000 (83%)]\tLoss: 0.026629\n",
            "Train Epoch: 5 [0/60000 (0%)]\tLoss: 0.041969\n",
            "Train Epoch: 5 [10000/60000 (17%)]\tLoss: 0.015763\n",
            "Train Epoch: 5 [20000/60000 (33%)]\tLoss: 0.081490\n",
            "Train Epoch: 5 [30000/60000 (50%)]\tLoss: 0.013165\n",
            "Train Epoch: 5 [40000/60000 (67%)]\tLoss: 0.003124\n",
            "Train Epoch: 5 [50000/60000 (83%)]\tLoss: 0.037971\n",
            "Train Epoch: 6 [0/60000 (0%)]\tLoss: 0.018526\n",
            "Train Epoch: 6 [10000/60000 (17%)]\tLoss: 0.039180\n",
            "Train Epoch: 6 [20000/60000 (33%)]\tLoss: 0.134905\n",
            "Train Epoch: 6 [30000/60000 (50%)]\tLoss: 0.075814\n",
            "Train Epoch: 6 [40000/60000 (67%)]\tLoss: 0.004249\n",
            "Train Epoch: 6 [50000/60000 (83%)]\tLoss: 0.019312\n",
            "Train Epoch: 7 [0/60000 (0%)]\tLoss: 0.009236\n",
            "Train Epoch: 7 [10000/60000 (17%)]\tLoss: 0.004552\n",
            "Train Epoch: 7 [20000/60000 (33%)]\tLoss: 0.051535\n",
            "Train Epoch: 7 [30000/60000 (50%)]\tLoss: 0.018056\n",
            "Train Epoch: 7 [40000/60000 (67%)]\tLoss: 0.003911\n",
            "Train Epoch: 7 [50000/60000 (83%)]\tLoss: 0.002902\n",
            "Train Epoch: 8 [0/60000 (0%)]\tLoss: 0.005972\n",
            "Train Epoch: 8 [10000/60000 (17%)]\tLoss: 0.003229\n",
            "Train Epoch: 8 [20000/60000 (33%)]\tLoss: 0.030250\n",
            "Train Epoch: 8 [30000/60000 (50%)]\tLoss: 0.009942\n",
            "Train Epoch: 8 [40000/60000 (67%)]\tLoss: 0.002288\n",
            "Train Epoch: 8 [50000/60000 (83%)]\tLoss: 0.002664\n",
            "Train Epoch: 9 [0/60000 (0%)]\tLoss: 0.036362\n",
            "Train Epoch: 9 [10000/60000 (17%)]\tLoss: 0.004802\n",
            "Train Epoch: 9 [20000/60000 (33%)]\tLoss: 0.007823\n",
            "Train Epoch: 9 [30000/60000 (50%)]\tLoss: 0.009293\n",
            "Train Epoch: 9 [40000/60000 (67%)]\tLoss: 0.000703\n",
            "Train Epoch: 9 [50000/60000 (83%)]\tLoss: 0.001306\n",
            "Train Epoch: 10 [0/60000 (0%)]\tLoss: 0.001501\n",
            "Train Epoch: 10 [10000/60000 (17%)]\tLoss: 0.003074\n",
            "Train Epoch: 10 [20000/60000 (33%)]\tLoss: 0.021671\n",
            "Train Epoch: 10 [30000/60000 (50%)]\tLoss: 0.003344\n",
            "Train Epoch: 10 [40000/60000 (67%)]\tLoss: 0.041687\n",
            "Train Epoch: 10 [50000/60000 (83%)]\tLoss: 0.016867\n",
            "Test set: Average loss: 0.0004, Accuracy: 9881/10000 (99%)\n"
          ]
        }
      ],
      "source": [
        "epochs = 10\n",
        "for epoch in range(epochs):\n",
        "    for batch_idx, (images, labels) in enumerate(loaders['train']):\n",
        "        optimizer.zero_grad()\n",
        "\n",
        "        # Reshape input tensor to match expected shape of the model\n",
        "        images = images.view(-1, 1, 28, 28)\n",
        "\n",
        "        outputs = model(images)\n",
        "        loss = loss_fun(outputs, labels)\n",
        "        loss.backward()\n",
        "        optimizer.step()\n",
        "\n",
        "        if batch_idx % 100 == 0:\n",
        "            print('Train Epoch: {} [{}/{} ({:.0f}%)]\\tLoss: {:.6f}'.format(\n",
        "                epoch+1, batch_idx*len(images), len(loaders['train'].dataset),\n",
        "                100.*batch_idx/len(loaders['train']), loss.item()))\n",
        "\n",
        "# Evaluate model on test dataset\n",
        "test_loss = 0\n",
        "correct = 0\n",
        "with torch.no_grad():\n",
        "    for images, labels in loaders['test']:\n",
        "\n",
        "        # Reshape input tensor to match expected shape of the model\n",
        "        images = images.view(-1, 1, 28, 28)\n",
        "\n",
        "        outputs = model(images)\n",
        "        test_loss += loss_fun(outputs, labels).item()\n",
        "        pred = outputs.argmax(dim=1, keepdim=True)\n",
        "        correct += pred.eq(labels.view_as(pred)).sum().item()\n",
        "\n",
        "test_loss /= len(loaders['test'].dataset)\n",
        "accuracy = 100. * correct / len(loaders['test'].dataset)\n",
        "\n",
        "print('Test set: Average loss: {:.4f}, Accuracy: {}/{} ({:.0f}%)'.format(\n",
        "    test_loss, correct, len(loaders['test'].dataset), accuracy))"
      ]
    },
    {
      "cell_type": "code",
      "execution_count": null,
      "metadata": {
        "id": "4ketzfqaiASF"
      },
      "outputs": [],
      "source": []
    }
  ],
  "metadata": {
    "colab": {
      "provenance": []
    },
    "kernelspec": {
      "display_name": "Python 3",
      "name": "python3"
    },
    "language_info": {
      "name": "python"
    }
  },
  "nbformat": 4,
  "nbformat_minor": 0
}